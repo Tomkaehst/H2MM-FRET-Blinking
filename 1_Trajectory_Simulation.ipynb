{
 "cells": [
  {
   "cell_type": "markdown",
   "id": "4af1f9cf-d69d-4ec9-8323-30f19dfcb8bb",
   "metadata": {},
   "source": [
    "# 1. Trajectory Simulation"
   ]
  },
  {
   "cell_type": "code",
   "execution_count": 1,
   "id": "80c79692-4685-4a98-a8d2-f631af20688d",
   "metadata": {},
   "outputs": [
    {
     "name": "stdout",
     "output_type": "stream",
     "text": [
      " - Optimized (cython) burst search loaded.\n",
      "--------------------------------------------------------------\n",
      " You are running FRETBursts (version 0.8.3).\n",
      "\n",
      " If you use this software please cite the following paper:\n",
      "\n",
      "   FRETBursts: An Open Source Toolkit for Analysis of Freely-Diffusing Single-Molecule FRET\n",
      "   Ingargiola et al. (2016). http://dx.doi.org/10.1371/journal.pone.0160716 \n",
      "\n",
      "--------------------------------------------------------------\n",
      "Numpy version: 1.26.4\n",
      "PyTables version: 3.9.2\n",
      "PyBroMo version: 0.8.1\n",
      "phconvert version: 0.9.1\n"
     ]
    }
   ],
   "source": [
    "%matplotlib inline\n",
    "import numpy as np\n",
    "import tables\n",
    "import matplotlib.pyplot as plt\n",
    "import seaborn as sns\n",
    "import pybromo as pbm\n",
    "import phconvert as phc\n",
    "import pandas as pd\n",
    "import fretbursts as fb\n",
    "import burstH2MM as bhm\n",
    "print('Numpy version:', np.__version__)\n",
    "print('PyTables version:', tables.__version__)\n",
    "print('PyBroMo version:', pbm.__version__)\n",
    "print('phconvert version:', phc.__version__)\n",
    "\n",
    "\n",
    "def patch_asscalar(a):\n",
    "    return a.item()\n",
    "\n",
    "setattr(np, \"asscalar\", patch_asscalar)"
   ]
  },
  {
   "cell_type": "code",
   "execution_count": 7,
   "id": "99e9d5cb-a8a3-43c6-b290-e3eb4689304a",
   "metadata": {},
   "outputs": [
    {
     "name": "stdout",
     "output_type": "stream",
     "text": [
      "Initial random state: 185fb38422d4ea48d9def26fdb1e8d2778de2af2\n",
      "Current random state: c6bb2010859607a0e526550fa72a74731a01cab9\n",
      "Box: X 6.0um, Y 6.0um, Z 8.0um\n",
      "#Particles: 15 D: 1e-11, 86.5 pM, t_step 0.5us, t_max 500.0s ID_EID 0 0\n",
      "  Number of particles: 15\n",
      "  Number of time steps: 1000000000\n",
      "  Emission array - 1 particle (float32): 3814.7 MB\n",
      "  Emission array (float32): 57220.5 MB\n",
      "  Position array (float32): 171661.4 MB \n"
     ]
    }
   ],
   "source": [
    "# Code from https://github.com/OpenSMFS/PyBroMo/blob/master/notebooks/PyBroMo%20-%201.%20Simulate%203D%20trajectories%20-%20single%20core.ipynb\n",
    "# Adapted to fit my case\n",
    "# Make diffusion trajectory\n",
    "\n",
    "rs = np.random.RandomState()\n",
    "print('Initial random state:', pbm.hashfunc(rs.get_state()))\n",
    "\n",
    "# Simulation time step (seconds)\n",
    "t_step = 0.5e-6\n",
    "\n",
    "# Time duration of the simulation (seconds)\n",
    "t_max = 500\n",
    "\n",
    "# Diffusion coefficient\n",
    "Du = 10.0            # um^2 / s\n",
    "D1 = Du*(1e-6)**2    # m^2 / s\n",
    "\n",
    "# Simulation box definition\n",
    "box = pbm.Box(x1=-3e-6, x2=3e-6, y1=-3e-6, y2=3e-6, z1=-4E-6, z2=4E-6)\n",
    "\n",
    "# Particles definition\n",
    "n_particles = 15\n",
    "P = pbm.Particles.from_specs(\n",
    "    num_particles=(n_particles,),\n",
    "    D=(D1,),\n",
    "    box=box, rs=rs)\n",
    "\n",
    "# PSF definition\n",
    "psf = pbm.NumericPSF()\n",
    "\n",
    "\n",
    "# Particle simulation definition\n",
    "S = pbm.ParticlesSimulation(t_step=t_step, t_max=t_max, \n",
    "                            particles=P, box=box, psf=psf)\n",
    "\n",
    "print('Current random state:', pbm.hashfunc(rs.get_state()))\n",
    "print(S)\n",
    "S.print_sizes()"
   ]
  },
  {
   "cell_type": "code",
   "execution_count": 8,
   "id": "ce15c3e8-e8b3-47f6-85c8-6162489ef573",
   "metadata": {},
   "outputs": [
    {
     "name": "stdout",
     "output_type": "stream",
     "text": [
      "- Start trajectories simulation - Mon Nov 25 11:31:40 2024\n",
      "[PID 37590] Diffusion time: 4s 8s 12s 16s 20s 25s 29s 33s 37s 41s 46s 50s 54s 58s 62s 67s 71s 75s 79s 83s 88s 92s 96s 100s 104s 109s 113s 117s 121s 125s 130s 134s 138s 142s 146s 150s 155s 159s 163s 167s 171s 176s 180s 184s 188s 192s 197s 201s 205s 209s 213s 218s 222s 226s 230s 234s 239s 243s 247s 251s 255s 260s 264s 268s 272s 276s 281s 285s 289s 293s 297s 301s 306s 310s 314s 318s 322s 327s 331s 335s 339s 343s 348s 352s 356s 360s 364s 369s 373s 377s 381s 385s 390s 394s 398s 402s 406s 411s 415s 419s 423s 427s 432s 436s 440s 444s 448s 452s 457s 461s 465s 469s 473s 478s 482s 486s 490s 494s 499s 503s\n",
      "- End trajectories simulation - Mon Nov 25 12:15:22 2024\n"
     ]
    }
   ],
   "source": [
    "S.simulate_diffusion(\n",
    "    total_emission=False,\n",
    "    save_pos=False,\n",
    "    verbose=True,\n",
    "    rs=rs,\n",
    "    chunksize=2**23,\n",
    "    chunkslice='times'\n",
    ")"
   ]
  },
  {
   "cell_type": "code",
   "execution_count": 9,
   "id": "7e40ae10-4d4b-4aa4-9e61-47f70f7da376",
   "metadata": {},
   "outputs": [
    {
     "data": {
      "text/plain": [
       "'aa3ff9_P15_D1e-11_86pM_step0.5us_t_max500.0s_ID0-0'"
      ]
     },
     "execution_count": 9,
     "metadata": {},
     "output_type": "execute_result"
    }
   ],
   "source": [
    "S.compact_name()"
   ]
  },
  {
   "cell_type": "code",
   "execution_count": 10,
   "id": "ae69686d-88bd-4f91-8355-53a0bf9e0db6",
   "metadata": {},
   "outputs": [],
   "source": [
    "S.store.close()"
   ]
  },
  {
   "cell_type": "code",
   "execution_count": null,
   "id": "6cee4d27-cfe3-4a12-8f5f-a47581d19fc0",
   "metadata": {
    "editable": true,
    "slideshow": {
     "slide_type": ""
    },
    "tags": []
   },
   "outputs": [],
   "source": []
  }
 ],
 "metadata": {
  "kernelspec": {
   "display_name": "Python 3 (ipykernel)",
   "language": "python",
   "name": "python3"
  },
  "language_info": {
   "codemirror_mode": {
    "name": "ipython",
    "version": 3
   },
   "file_extension": ".py",
   "mimetype": "text/x-python",
   "name": "python",
   "nbconvert_exporter": "python",
   "pygments_lexer": "ipython3",
   "version": "3.9.19"
  }
 },
 "nbformat": 4,
 "nbformat_minor": 5
}
